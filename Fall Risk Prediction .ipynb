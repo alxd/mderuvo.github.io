{
 "cells": [
  {
   "cell_type": "markdown",
   "metadata": {},
   "source": [
    "# Pendulum: Connected insoles for fall risk prediction"
   ]
  },
  {
   "cell_type": "markdown",
   "metadata": {},
   "source": [
    "## Workflow steps\n",
    "\n",
    "1. Problem Definition\n",
    "2. Import Train and Test Set\n",
    "3. Explore Data and Generate New Features\n",
    "4. Feature Standardization\n",
    "5. Model Training and Prediction\n",
    "6. Prediction on the Test Set\n",
    "7. Export the Predicted Results"
   ]
  },
  {
   "cell_type": "markdown",
   "metadata": {},
   "source": [
    "## 1. Problem Definition and Goal: \n",
    "Analyse daily activity (steps, balance, gait, ...) and provide reccomendation exercises based on fall risk detection/prediction"
   ]
  },
  {
   "cell_type": "markdown",
   "metadata": {},
   "source": [
    "## 2. Import train and test set - ATM Import Datasets from research papers\n"
   ]
  },
  {
   "cell_type": "code",
   "execution_count": 2,
   "metadata": {
    "collapsed": true
   },
   "outputs": [],
   "source": [
    "# Load libraries for data analysis \n",
    "import pandas as pd\n",
    "import numpy as np\n",
    "import random\n",
    "#from pandas.tools.plotting import scatter_matrix\n",
    "# Load libraries for visualization\n",
    "import matplotlib.pyplot as plt\n",
    "import seaborn as sns\n",
    "# Load libraries for machine learning\n",
    "from sklearn.model_selection import cross_val_score\n",
    "from sklearn.linear_model import LogisticRegression\n",
    "from sklearn import metrics\n",
    "%matplotlib inline"
   ]
  },
  {
   "cell_type": "markdown",
   "metadata": {},
   "source": [
    "Datasets from SisFall: A Fall and Movement Dataset (Sucerquia et al., Sensors 2017) <br>\n",
    "Features: amplitude, orientation angle, statistical moments, critical phase time, and area under the curve <br>\n",
    " This database consists of 4,510 files, each file with a single activity. <br>\n",
    " SA: Adults subjects between 19 and 30 years old <br>\n",
    "  SE: Elderly people between 60 and 75 years old <br>\n",
    "\n",
    "Elderly people only simulated ADLs except SE06, who is an expert in Judo that also simulated falls. Elderly people did not \n",
    "perform activities D06, D13, D18, and D19 due to recommendations of a physician specialized in sports. Additionally, some \n",
    "elderly people did not perform some activities due to personal impairments (or medical recommendation). <br>\n",
    "\n",
    "Each file contains nine columns and a different number of rows depending on the test length. <br>\n",
    "\n",
    "1st column is the acceleration data in the X axis measured by the sensor ADXL345.  <br>\n",
    "2nd column is the acceleration data in the Y axis measured by the sensor ADXL345. <br>\n",
    "3rd column is the acceleration data in the Z axis measured by the sensor ADXL345. <br>\n",
    "\n",
    "4th column is the rotation data in the X axis measured by the sensor ITG3200. <br>\n",
    "5th column is the rotation data in the Y axis measured by the sensor ITG3200. <br>\n",
    "6th column is the rotation data in the Z axis measured by the sensor ITG3200. <br>\n",
    "\n",
    "7th column is the acceleration data in the X axis measured by the sensor MMA8451Q. <br>\n",
    "8th column is the acceleration data in the Y axis measured by the sensor MMA8451Q. <br>\n",
    "9th column is the acceleration data in the Z axis measured by the sensor MMA8451Q. <br>\n",
    "\n",
    "Data are in bits with the following characteristics:\n",
    "\n",
    "ADXL345:\n",
    "Resolution: 13 bits\n",
    "Range: +-16g\n",
    "\n",
    "ITG3200\n",
    "Resolution: 16 bits\n",
    "Range: +-2000°/s\n",
    "\n",
    "MMA8451Q:\n",
    "Resolution: 14 bits\n",
    "Range: +-8g\n",
    "\n",
    "\n",
    "In order to convert the acceleration data (AD) given in bits into gravity, use this equation: <br>\n",
    "\n",
    "Acceleration [g]: [(2*Range)/(2^Resolution)]*AD \n",
    "\n",
    "In order to convert the rotation data (RD) given in bits into angular velocity, use this equation:\n",
    "\n",
    "Angular velocity [°/s]: [(2*Range)/(2^Resolution)]*RD\n",
    "\n",
    "\n",
    "\n"
   ]
  },
  {
   "cell_type": "markdown",
   "metadata": {},
   "source": [
    "-+--------+----------+\n",
    "| Code | Activity                                                                                 | Trials | Duration |\n",
    "+------+------------------------------------------------------------------------------------------+--------+----------+\n",
    "| D01  | Walking slowly                                                                           | 1      | 100s     |\n",
    "| D02  | Walking quickly                                                                          | 1      | 100s     |\n",
    "| D03  | Jogging slowly                                                                           | 1      | 100s     |\n",
    "| D04  | Jogging quickly                                                                          | 1      | 100s     |\n",
    "| D05  | Walking upstairs and downstairs slowly                                                   | 5      | 25s      |\n",
    "| D06  | Walking upstairs and downstairs quickly                                                  | 5      | 25s      |\n",
    "| D07  | Slowly sit in a half height chair, wait a moment, and up slowly                          | 5      | 12s      |\n",
    "| D08  | Quickly sit in a half height chair, wait a moment, and up quickly                        | 5      | 12s      |\n",
    "| D09  | Slowly sit in a low height chair, wait a moment, and up slowly                           | 5      | 12s      |\n",
    "| D10  | Quickly sit in a low height chair, wait a moment, and up quickly                         | 5      | 12s      |\n",
    "| D11  | Sitting a moment, trying to get up, and collapse into a chair                            | 5      | 12s      |\n",
    "| D12  | Sitting a moment, lying slowly, wait a moment, and sit again                             | 5      | 12s      |\n",
    "| D13  | Sitting a moment, lying quickly, wait a moment, and sit again                            | 5      | 12s      |\n",
    "| D14  | Being on oneís back change to lateral position, wait a moment, and change to oneís back  | 5      | 12s      |\n",
    "| D15  | Standing, slowly bending at knees, and getting up                                        | 5      | 12s      |\n",
    "| D16  | Standing, slowly bending without bending knees, and getting up                           | 5      | 12s      |\n",
    "| D17  | Standing, get into a car, remain seated and get out of the car                           | 5      | 25s      |\n",
    "| D18  | Stumble while walking                                                                    | 5      | 12s      |\n",
    "| D19  | Gently jump without falling (trying to reach a high object)                              | 5      | 12s      |\n",
    "+------+------------------------------------------------------------------------------------------+--------+----------+\n",
    "\n",
    "Falls:\n",
    "\n",
    "+------+------------------------------------------------------------------------------------------+--------+----------+\n",
    "| Code | Activity                                                                                 | Trials | Duration |\n",
    "+------+------------------------------------------------------------------------------------------+--------+----------+\n",
    "| F01  | Fall forward while walking caused by a slip                                              | 5      | 15s      |\n",
    "| F02  | Fall backward while walking caused by a slip                                             | 5      | 15s      |\n",
    "| F03  | Lateral fall while walking caused by a slip                                              | 5      | 15s      |\n",
    "| F04  | Fall forward while walking caused by a trip                                              | 5      | 15s      |\n",
    "| F05  | Fall forward while jogging caused by a trip                                              | 5      | 15s      |\n",
    "| F06  | Vertical fall while walking caused by fainting                                           | 5      | 15s      |\n",
    "| F07  | Fall while walking, with use of hands in a table to dampen fall, caused by fainting      | 5      | 15s      |\n",
    "| F08  | Fall forward when trying to get up                                                       | 5      | 15s      |\n",
    "| F09  | Lateral fall when trying to get up                                                       | 5      | 15s      |\n",
    "| F10  | Fall forward when trying to sit down                                                     | 5      | 15s      |\n",
    "| F11  | Fall backward when trying to sit down                                                    | 5      | 15s      |\n",
    "| F12  | Lateral fall when trying to sit down                                                     | 5      | 15s      |\n",
    "| F13  | Fall forward while sitting, caused by fainting or falling asleep                         | 5      | 15s      |\n",
    "| F14  | Fall backward while sitting, caused by fainting or falling asleep                        | 5      | 15s      |\n",
    "| F15  | Lateral fall while sitting, caused by fainting or falling asleep                         | 5      | 15s      |\n",
    "+------+------------------------------------------------------------------------------------------+--------+----------+"
   ]
  },
  {
   "cell_type": "code",
   "execution_count": 20,
   "metadata": {
    "collapsed": false
   },
   "outputs": [
    {
     "data": {
      "text/html": [
       "<div>\n",
       "<style scoped>\n",
       "    .dataframe tbody tr th:only-of-type {\n",
       "        vertical-align: middle;\n",
       "    }\n",
       "\n",
       "    .dataframe tbody tr th {\n",
       "        vertical-align: top;\n",
       "    }\n",
       "\n",
       "    .dataframe thead th {\n",
       "        text-align: right;\n",
       "    }\n",
       "</style>\n",
       "<table border=\"1\" class=\"dataframe\">\n",
       "  <thead>\n",
       "    <tr style=\"text-align: right;\">\n",
       "      <th></th>\n",
       "      <th>acceleration1_x</th>\n",
       "      <th>acceleration1_y</th>\n",
       "      <th>acceleration1_z</th>\n",
       "      <th>rotation1_x</th>\n",
       "      <th>rotation1_y</th>\n",
       "      <th>rotation1_z</th>\n",
       "      <th>acceleration2_x</th>\n",
       "      <th>accelaration2_y</th>\n",
       "      <th>acceleration2_z</th>\n",
       "    </tr>\n",
       "  </thead>\n",
       "  <tbody>\n",
       "    <tr>\n",
       "      <th>0</th>\n",
       "      <td>17</td>\n",
       "      <td>-179</td>\n",
       "      <td>-99</td>\n",
       "      <td>-18</td>\n",
       "      <td>-504</td>\n",
       "      <td>-352</td>\n",
       "      <td>76</td>\n",
       "      <td>-697</td>\n",
       "      <td>-279;</td>\n",
       "    </tr>\n",
       "    <tr>\n",
       "      <th>1</th>\n",
       "      <td>15</td>\n",
       "      <td>-174</td>\n",
       "      <td>-90</td>\n",
       "      <td>-53</td>\n",
       "      <td>-568</td>\n",
       "      <td>-306</td>\n",
       "      <td>48</td>\n",
       "      <td>-675</td>\n",
       "      <td>-254;</td>\n",
       "    </tr>\n",
       "    <tr>\n",
       "      <th>2</th>\n",
       "      <td>1</td>\n",
       "      <td>-176</td>\n",
       "      <td>-81</td>\n",
       "      <td>-84</td>\n",
       "      <td>-613</td>\n",
       "      <td>-271</td>\n",
       "      <td>-2</td>\n",
       "      <td>-668</td>\n",
       "      <td>-221;</td>\n",
       "    </tr>\n",
       "    <tr>\n",
       "      <th>3</th>\n",
       "      <td>-10</td>\n",
       "      <td>-180</td>\n",
       "      <td>-77</td>\n",
       "      <td>-104</td>\n",
       "      <td>-647</td>\n",
       "      <td>-227</td>\n",
       "      <td>-34</td>\n",
       "      <td>-697</td>\n",
       "      <td>-175;</td>\n",
       "    </tr>\n",
       "    <tr>\n",
       "      <th>4</th>\n",
       "      <td>-21</td>\n",
       "      <td>-191</td>\n",
       "      <td>-63</td>\n",
       "      <td>-128</td>\n",
       "      <td>-675</td>\n",
       "      <td>-191</td>\n",
       "      <td>-74</td>\n",
       "      <td>-741</td>\n",
       "      <td>-133;</td>\n",
       "    </tr>\n",
       "  </tbody>\n",
       "</table>\n",
       "</div>"
      ],
      "text/plain": [
       "   acceleration1_x  acceleration1_y  acceleration1_z  rotation1_x  \\\n",
       "0               17             -179              -99          -18   \n",
       "1               15             -174              -90          -53   \n",
       "2                1             -176              -81          -84   \n",
       "3              -10             -180              -77         -104   \n",
       "4              -21             -191              -63         -128   \n",
       "\n",
       "   rotation1_y  rotation1_z  acceleration2_x  accelaration2_y acceleration2_z  \n",
       "0         -504         -352               76             -697           -279;  \n",
       "1         -568         -306               48             -675           -254;  \n",
       "2         -613         -271               -2             -668           -221;  \n",
       "3         -647         -227              -34             -697           -175;  \n",
       "4         -675         -191              -74             -741           -133;  "
      ]
     },
     "execution_count": 20,
     "metadata": {},
     "output_type": "execute_result"
    }
   ],
   "source": [
    " # Activity dataset - each file is for one person, a specific activity and a given trial (ROx) \n",
    "    # Walking slowly\n",
    "activity_ds_S1 = pd.read_csv('SisFall_dataset-3/SA01/D01_SA01_R01.txt', sep=',', names = ['acceleration1_x','acceleration1_y','acceleration1_z','rotation1_x','rotation1_y','rotation1_z','acceleration2_x','accelaration2_y','acceleration2_z'])\n",
    "activity_ds_S1.head()\n"
   ]
  },
  {
   "cell_type": "markdown",
   "metadata": {},
   "source": [
    "## Feature generation (as calculated in Table 4)"
   ]
  },
  {
   "cell_type": "code",
   "execution_count": null,
   "metadata": {
    "collapsed": true
   },
   "outputs": [],
   "source": [
    "##### Amplitude features #####\n",
    "\n",
    "sum_vector_magnitude = round(np.sqrt(activity_ds_S1['acceleration1_x'].pow(2)+activity_ds_S1['acceleration1_y'].pow(2)+activity_ds_S1['acceleration1_z'].pow(2)),2)\n",
    "sum_vector_magnitude.head()"
   ]
  },
  {
   "cell_type": "code",
   "execution_count": 26,
   "metadata": {
    "collapsed": false
   },
   "outputs": [
    {
     "data": {
      "text/plain": [
       "0    100.45\n",
       "1     91.24\n",
       "2     81.01\n",
       "3     77.65\n",
       "4     66.41\n",
       "dtype: float64"
      ]
     },
     "execution_count": 26,
     "metadata": {},
     "output_type": "execute_result"
    }
   ],
   "source": [
    "# Horizontal Plane\n",
    "sum_vector_magnitude_hp = round(np.sqrt(activity_ds_S1['acceleration1_x'].pow(2)+activity_ds_S1['acceleration1_z'].pow(2)),2)\n",
    "sum_vector_magnitude_hp.head()\n"
   ]
  },
  {
   "cell_type": "code",
   "execution_count": null,
   "metadata": {
    "collapsed": true
   },
   "outputs": [],
   "source": [
    "# Maximum peak-to-peak acceleration amplitude\n",
    "\n"
   ]
  },
  {
   "cell_type": "code",
   "execution_count": 36,
   "metadata": {
    "collapsed": false
   },
   "outputs": [
    {
     "data": {
      "text/plain": [
       "-2688.9342903942043"
      ]
     },
     "execution_count": 36,
     "metadata": {},
     "output_type": "execute_result"
    }
   ],
   "source": [
    "##### Orientation #####\n",
    "\n",
    "# Orientation change in horizontal plane - assuming window size of 300ms\n",
    "\n",
    "window_size = 300 \n",
    "or_change_hp = ((activity_ds_S1['acceleration1_x']- window_size).mean()) * (activity_ds_S1['acceleration1_x'].mean())\n",
    "or_change_hp"
   ]
  },
  {
   "cell_type": "code",
   "execution_count": null,
   "metadata": {
    "collapsed": true
   },
   "outputs": [],
   "source": [
    "#### Time ####\n",
    "# Acceleration change rate (jerk)\n",
    "\n",
    "# assuming t is the time of the activity [s]? \n",
    "time = 10\n",
    "\n",
    "jerk = (activity_ds_S1['acceleration1_x'] - activity_ds_S1['acceleration1_x']- window_size) / time"
   ]
  },
  {
   "cell_type": "code",
   "execution_count": 18,
   "metadata": {
    "collapsed": false
   },
   "outputs": [
    {
     "data": {
      "text/plain": [
       "44991"
      ]
     },
     "execution_count": 18,
     "metadata": {},
     "output_type": "execute_result"
    }
   ],
   "source": [
    "activity_ds_S1_D5 = pd.read_csv('SisFall_dataset-3/SA01/D05_SA01_R01.txt', sep=',',header=0)\n",
    "\n",
    "activity_ds_S1_D5.size"
   ]
  },
  {
   "cell_type": "code",
   "execution_count": null,
   "metadata": {
    "collapsed": true
   },
   "outputs": [],
   "source": [
    "## Amplitude features\n",
    "\n",
    "sum_vector_magnitude = np.sqrt()"
   ]
  }
 ],
 "metadata": {
  "kernelspec": {
   "display_name": "Python 3",
   "language": "python",
   "name": "python3"
  },
  "language_info": {
   "codemirror_mode": {
    "name": "ipython",
    "version": 3
   },
   "file_extension": ".py",
   "mimetype": "text/x-python",
   "name": "python",
   "nbconvert_exporter": "python",
   "pygments_lexer": "ipython3",
   "version": "3.6.2"
  }
 },
 "nbformat": 4,
 "nbformat_minor": 2
}
